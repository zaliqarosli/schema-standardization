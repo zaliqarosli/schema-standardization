{
 "cells": [
  {
   "cell_type": "code",
   "execution_count": 112,
   "metadata": {},
   "outputs": [
    {
     "name": "stdout",
     "output_type": "stream",
     "text": [
      "Requirement already satisfied: PyLD in /Users/anisha.keshavan/anaconda3/lib/python3.6/site-packages (1.0.4)\r\n"
     ]
    }
   ],
   "source": [
    "! pip install PyLD\n",
    "from pyld import jsonld\n",
    "from copy import deepcopy\n",
    "import json"
   ]
  },
  {
   "cell_type": "code",
   "execution_count": 103,
   "metadata": {},
   "outputs": [],
   "source": [
    "def get_activities(applet_expanded):\n",
    "    activities = [a['@id'] for a in applet_expanded[0]['https://schema.repronim.org/order'][0]['@list']]\n",
    "\n",
    "    activities_expanded = {a: jsonld.expand(a) for a in activities}\n",
    "    return activities_expanded\n",
    "\n",
    "def get_items(activities_expanded):\n",
    "    items_expanded = {}\n",
    "    for a in activities_expanded.keys():\n",
    "        for i in activities_expanded[a][0]['https://schema.repronim.org/order'][0]['@list']:\n",
    "            items_expanded[i['@id']] = jsonld.expand(i['@id'])\n",
    "    return items_expanded"
   ]
  },
  {
   "cell_type": "code",
   "execution_count": 104,
   "metadata": {},
   "outputs": [],
   "source": [
    "def check_for_unexpanded_value_constraints(item_exp):\n",
    "    vc = item_exp[0]\n",
    "    if 'https://schema.repronim.org/valueconstraints' in vc.keys():\n",
    "        vc = vc['https://schema.repronim.org/valueconstraints'][0]\n",
    "        if isinstance(vc, dict):\n",
    "            if \"@id\" in vc.keys():\n",
    "                return True\n",
    "\n",
    "    return False"
   ]
  },
  {
   "cell_type": "code",
   "execution_count": 105,
   "metadata": {},
   "outputs": [],
   "source": [
    "def expand_value_constraints(original_items_expanded):\n",
    "    items_expanded = deepcopy(original_items_expanded)\n",
    "    for item, item_exp in original_items_expanded.items():\n",
    "        # check if we need to expand valueConstraints\n",
    "        vc = item_exp[0]\n",
    "        if 'https://schema.repronim.org/valueconstraints' in vc.keys():\n",
    "            if check_for_unexpanded_value_constraints(item_exp):\n",
    "                vc = jsonld.expand(item_exp[0]['https://schema.repronim.org/valueconstraints'][0]['@id'])\n",
    "                items_expanded[item][0]['https://schema.repronim.org/valueconstraints'][0] = vc\n",
    "        else:\n",
    "            multipart_activities = get_activities(item_exp)\n",
    "            items_expanded.update(multipart_activities)\n",
    "    return items_expanded"
   ]
  },
  {
   "cell_type": "code",
   "execution_count": 106,
   "metadata": {},
   "outputs": [],
   "source": [
    "def expand_full(appletURL):\n",
    "    applet_expanded = jsonld.expand(appletURL)\n",
    "    \n",
    "    activities_expanded = get_activities(applet_expanded)\n",
    "    \n",
    "    items_expanded = get_items(activities_expanded)\n",
    "    expItems1 = expand_value_constraints(items_expanded)\n",
    "    \n",
    "    # re-expand the items in case any multiparters were added\n",
    "    expItems2 = expand_value_constraints(expItems1)\n",
    "    \n",
    "    return dict(activities = activities_expanded, items = items_expanded, applet = applet_expanded)"
   ]
  },
  {
   "cell_type": "code",
   "execution_count": 114,
   "metadata": {},
   "outputs": [],
   "source": [
    "appletURL = 'https://raw.githubusercontent.com/ReproNim/schema-standardization/master/activity-sets/voice-pilot/voice_pilot_schema.jsonld'\n",
    "\n",
    "fully_expanded_voice = expand_full(appletURL)"
   ]
  },
  {
   "cell_type": "code",
   "execution_count": 117,
   "metadata": {},
   "outputs": [],
   "source": [
    "# json.dumps(fully_expanded_voice)"
   ]
  },
  {
   "cell_type": "code",
   "execution_count": 109,
   "metadata": {},
   "outputs": [],
   "source": [
    "hbn_applet = 'https://raw.githubusercontent.com/ReproNim/schema-standardization/master/activity-sets/ema-hbn/ema-hbn_schema.jsonld'\n",
    "fully_expanded_hbn = expand_full(hbn_applet)"
   ]
  },
  {
   "cell_type": "code",
   "execution_count": 116,
   "metadata": {
    "scrolled": false
   },
   "outputs": [
    {
     "data": {
      "text/plain": [
       "'{\"activities\": {\"https://raw.githubusercontent.com/ReproNim/schema-standardization/master/activities/EmaHBNMorning/ema_morning_schema.jsonld\": [{\"@id\": \"https://raw.githubusercontent.com/ReproNim/schema-standardization/master/activities/EmaHBNMorning/ema_morning_schema\", \"@type\": [\"https://raw.githubusercontent.com/ReproNim/schema-standardization/master/schemas/Activity.jsonld\"], \"http://schema.repronim.org/preamble\": [{\"@language\": \"en\", \"@value\": \"\"}], \"http://schema.org/description\": [{\"@language\": \"en\", \"@value\": \"Morning Questions\"}], \"http://schema.org/schemaVersion\": [{\"@language\": \"en\", \"@value\": \"0.0.1\"}], \"http://schema.org/version\": [{\"@language\": \"en\", \"@value\": \"0.0.1\"}], \"https://schema.repronim.org/scoringLogic\": [], \"http://www.w3.org/2004/02/skos/core#altLabel\": [{\"@language\": \"en\", \"@value\": \"ema_morning_schema\"}], \"http://www.w3.org/2004/02/skos/core#prefLabel\": [{\"@language\": \"en\", \"@value\": \"EMA: Morning\"}], \"https://schema.repronim.org/order\": [{\"@list\": [{\"@id\": \"https://raw.githubusercontent.com/ReproNim/schema-standardization/master/activities/EmaHBNMorning/items/time_in_bed.jsonld\"}, {\"@id\": \"https://raw.githubusercontent.com/ReproNim/schema-standardization/master/activities/EmaHBNMorning/items/nightmares.jsonld\"}, {\"@id\": \"https://raw.githubusercontent.com/ReproNim/schema-standardization/master/activities/EmaHBNMorning/items/sleeping_aids.jsonld\"}]}], \"https://schema.repronim.org/shuffle\": [{\"@type\": \"http://schema.org/Boolean\", \"@value\": false}], \"https://schema.repronim.org/visibility\": [{\"@value\": true, \"@index\": \"nightmares\"}, {\"@value\": true, \"@index\": \"sleeping_aids\"}, {\"@value\": true, \"@index\": \"time_in_bed\"}]}], \"https://raw.githubusercontent.com/ReproNim/schema-standardization/master/activities/EmaHBNEvening/ema_evening_schema.jsonld\": [{\"@id\": \"https://raw.githubusercontent.com/ReproNim/schema-standardization/master/activities/EmaHBNEvening/ema_evening_schema\", \"@type\": [\"https://raw.githubusercontent.com/ReproNim/schema-standardization/master/schemas/Activity.jsonld\"], \"http://schema.repronim.org/preamble\": [{\"@language\": \"en\", \"@value\": \"\"}], \"http://schema.org/description\": [{\"@language\": \"en\", \"@value\": \"Evening Questions\"}], \"http://schema.org/schemaVersion\": [{\"@language\": \"en\", \"@value\": \"0.0.1\"}], \"http://schema.org/version\": [{\"@language\": \"en\", \"@value\": \"0.0.1\"}], \"https://schema.repronim.org/scoringLogic\": [], \"http://www.w3.org/2004/02/skos/core#altLabel\": [{\"@language\": \"en\", \"@value\": \"ema_evening_schema\"}], \"http://www.w3.org/2004/02/skos/core#prefLabel\": [{\"@language\": \"en\", \"@value\": \"EMA: Evening\"}], \"https://schema.repronim.org/order\": [{\"@list\": [{\"@id\": \"https://raw.githubusercontent.com/ReproNim/schema-standardization/master/activities/EmaHBNEvening/items/stressful_day.jsonld\"}, {\"@id\": \"https://raw.githubusercontent.com/ReproNim/schema-standardization/master/activities/EmaHBNEvening/items/sources_of_stress.jsonld\"}, {\"@id\": \"https://raw.githubusercontent.com/ReproNim/schema-standardization/master/activities/EmaHBNEvening/items/good_bad_day.jsonld\"}, {\"@id\": \"https://raw.githubusercontent.com/ReproNim/schema-standardization/master/activities/EmaHBNEvening/items/enjoyed_day.jsonld\"}, {\"@id\": \"https://raw.githubusercontent.com/ReproNim/schema-standardization/master/activities/EmaHBNEvening/items/energy.jsonld\"}, {\"@id\": \"https://raw.githubusercontent.com/ReproNim/schema-standardization/master/activities/EmaHBNEvening/items/health.jsonld\"}, {\"@id\": \"https://raw.githubusercontent.com/ReproNim/schema-standardization/master/activities/EmaHBNEvening/items/negative_event.jsonld\"}]}], \"https://schema.repronim.org/shuffle\": [{\"@type\": \"http://schema.org/Boolean\", \"@value\": false}], \"https://schema.repronim.org/visibility\": [{\"@value\": true, \"@index\": \"energy\"}, {\"@value\": true, \"@index\": \"enjoyed_day\"}, {\"@value\": true, \"@index\": \"good_bad_day\"}, {\"@value\": true, \"@index\": \"health\"}, {\"@value\": true, \"@index\": \"negative_event\"}, {\"@language\": \"en\", \"@value\": \"stressful_day\", \"@index\": \"sources_of_stress\"}, {\"@value\": true, \"@index\": \"stressful_day\"}]}]}, \"items\": {\"https://raw.githubusercontent.com/ReproNim/schema-standardization/master/activities/EmaHBNMorning/items/time_in_bed.jsonld\": [{\"@id\": \"https://raw.githubusercontent.com/ReproNim/schema-standardization/master/activities/EmaHBNMorning/items/time_in_bed\", \"@type\": [\"https://raw.githubusercontent.com/ReproNim/schema-standardization/master/schemas/Field.jsonld\"], \"http://schema.org/question\": [{\"@language\": \"en\", \"@value\": \"Mark the hours that your child was in bed\"}], \"https://schema.repronim.org/valueconstraints\": [{}], \"http://schema.org/description\": [{\"@language\": \"en\", \"@value\": \"time spent in bed\"}], \"http://schema.org/schemaVersion\": [{\"@language\": \"en\", \"@value\": \"0.0.1\"}], \"http://schema.org/version\": [{\"@language\": \"en\", \"@value\": \"0.0.1\"}], \"http://www.w3.org/2004/02/skos/core#altLabel\": [{\"@language\": \"en\", \"@value\": \"time_in_bed\"}], \"http://www.w3.org/2004/02/skos/core#prefLabel\": [{\"@language\": \"en\", \"@value\": \"Time in bed\"}], \"https://schema.repronim.org/inputType\": [{\"@type\": \"http://www.w3.org/2001/XMLSchema#string\", \"@value\": \"timeRange\"}]}], \"https://raw.githubusercontent.com/ReproNim/schema-standardization/master/activities/EmaHBNMorning/items/nightmares.jsonld\": [{\"@id\": \"https://raw.githubusercontent.com/ReproNim/schema-standardization/master/activities/EmaHBNMorning/items/nightmares\", \"@type\": [\"https://raw.githubusercontent.com/ReproNim/schema-standardization/master/schemas/Field.jsonld\"], \"http://schema.org/question\": [{\"@language\": \"en\", \"@value\": \"Did your child have any nightmares or night terrors last night?\"}], \"https://schema.repronim.org/valueconstraints\": [{\"@type\": [\"http://www.w3.org/2001/XMLSchema#anyURI\"], \"http://schema.org/itemListElement\": [{\"@list\": [{\"@type\": [\"http://schema.org/Boolean\"], \"http://schema.org/image\": [{\"@language\": \"en\", \"@value\": \"https://raw.githubusercontent.com/hfg-gmuend/openmoji/master/color/svg/1F634.svg?sanitize=true\"}], \"http://schema.org/name\": [{\"@language\": \"en\", \"@value\": \"No\"}], \"http://schema.org/value\": [{\"@value\": 0}]}, {\"@type\": [\"http://schema.org/Boolean\"], \"http://schema.org/image\": [{\"@language\": \"en\", \"@value\": \"https://raw.githubusercontent.com/hfg-gmuend/openmoji/master/color/svg/1F62B.svg?sanitize=true\"}], \"http://schema.org/name\": [{\"@language\": \"en\", \"@value\": \"Yes\"}], \"http://schema.org/value\": [{\"@value\": 1}]}]}], \"http://schema.repronim.org/multipleChoice\": [{\"@type\": \"http://schema.org/Boolean\", \"@value\": false}], \"http://schema.org/maxValue\": [{\"@value\": 1}], \"http://schema.org/minValue\": [{\"@value\": 0}]}], \"http://schema.org/description\": [{\"@language\": \"en\", \"@value\": \"whether or not your child experience nightmares or night terrors\"}], \"http://schema.org/schemaVersion\": [{\"@language\": \"en\", \"@value\": \"0.0.1\"}], \"http://schema.org/version\": [{\"@language\": \"en\", \"@value\": \"0.0.1\"}], \"http://www.w3.org/2004/02/skos/core#altLabel\": [{\"@language\": \"en\", \"@value\": \"nightmares\"}], \"http://www.w3.org/2004/02/skos/core#prefLabel\": [{\"@language\": \"en\", \"@value\": \"Nightmares\"}], \"https://schema.repronim.org/inputType\": [{\"@type\": \"http://www.w3.org/2001/XMLSchema#string\", \"@value\": \"radio\"}]}], \"https://raw.githubusercontent.com/ReproNim/schema-standardization/master/activities/EmaHBNMorning/items/sleeping_aids.jsonld\": [{\"@id\": \"https://raw.githubusercontent.com/ReproNim/schema-standardization/master/activities/EmaHBNMorning/items/sleeping_aids\", \"@type\": [\"https://raw.githubusercontent.com/ReproNim/schema-standardization/master/schemas/Field.jsonld\"], \"http://schema.org/question\": [{\"@language\": \"en\", \"@value\": \"Did your child take sleeping pills or anything else to help their sleep last night?\"}], \"https://schema.repronim.org/valueconstraints\": [{\"@type\": [\"http://www.w3.org/2001/XMLSchema#anyURI\"], \"http://schema.org/itemListElement\": [{\"@list\": [{\"@type\": [\"http://schema.org/Boolean\"], \"http://schema.org/image\": [{\"@language\": \"en\", \"@value\": \"https://raw.githubusercontent.com/hfg-gmuend/openmoji/master/color/svg/1F6CF.svg?sanitize=true\"}], \"http://schema.org/name\": [{\"@language\": \"en\", \"@value\": \"No\"}], \"http://schema.org/value\": [{\"@value\": 0}]}, {\"@type\": [\"http://schema.org/Boolean\"], \"http://schema.org/image\": [{\"@language\": \"en\", \"@value\": \"https://raw.githubusercontent.com/hfg-gmuend/openmoji/master/color/svg/1F48A.svg?sanitize=true\"}], \"http://schema.org/name\": [{\"@language\": \"en\", \"@value\": \"Yes\"}], \"http://schema.org/value\": [{\"@value\": 1}]}]}], \"http://schema.repronim.org/multipleChoice\": [{\"@type\": \"http://schema.org/Boolean\", \"@value\": false}], \"http://schema.org/maxValue\": [{\"@value\": 1}], \"http://schema.org/minValue\": [{\"@value\": 0}]}], \"http://schema.org/description\": [{\"@language\": \"en\", \"@value\": \"whether or not your child took sleeping aids to fall asleep last night\"}], \"http://schema.org/schemaVersion\": [{\"@language\": \"en\", \"@value\": \"0.0.1\"}], \"http://schema.org/version\": [{\"@language\": \"en\", \"@value\": \"0.0.1\"}], \"http://www.w3.org/2004/02/skos/core#altLabel\": [{\"@language\": \"en\", \"@value\": \"sleeping_aids\"}], \"http://www.w3.org/2004/02/skos/core#prefLabel\": [{\"@language\": \"en\", \"@value\": \"Sleeping Aids\"}], \"https://schema.repronim.org/inputType\": [{\"@type\": \"http://www.w3.org/2001/XMLSchema#string\", \"@value\": \"radio\"}]}], \"https://raw.githubusercontent.com/ReproNim/schema-standardization/master/activities/EmaHBNEvening/items/stressful_day.jsonld\": [{\"@id\": \"https://raw.githubusercontent.com/ReproNim/schema-standardization/master/activities/EmaHBNEvening/items/stressful_day\", \"@type\": [\"https://raw.githubusercontent.com/ReproNim/schema-standardization/master/schemas/Field.jsonld\"], \"http://schema.org/question\": [{\"@language\": \"en\", \"@value\": \"Do you think your child had a stressful day today?\"}], \"https://schema.repronim.org/valueconstraints\": [{\"@type\": [\"http://www.w3.org/2001/XMLSchema#anyURI\"], \"http://schema.org/itemListElement\": [{\"@list\": [{\"@type\": [\"http://schema.org/Boolean\"], \"http://schema.org/image\": [{\"@language\": \"en\", \"@value\": \"https://raw.githubusercontent.com/hfg-gmuend/openmoji/master/color/svg/1F60A.svg?sanitize=true\"}], \"http://schema.org/name\": [{\"@language\": \"en\", \"@value\": \"No\"}], \"http://schema.org/value\": [{\"@value\": 0}]}, {\"@type\": [\"http://schema.org/Boolean\"], \"http://schema.org/image\": [{\"@language\": \"en\", \"@value\": \"https://raw.githubusercontent.com/hfg-gmuend/openmoji/master/color/svg/1F630.svg?sanitize=true\"}], \"http://schema.org/name\": [{\"@language\": \"en\", \"@value\": \"Yes\"}], \"http://schema.org/value\": [{\"@value\": 1}]}]}], \"http://schema.repronim.org/multipleChoice\": [{\"@type\": \"http://schema.org/Boolean\", \"@value\": false}], \"http://schema.org/maxValue\": [{\"@value\": 1}], \"http://schema.org/minValue\": [{\"@value\": 0}]}], \"http://schema.org/description\": [{\"@language\": \"en\", \"@value\": \"whether or not your child took sleeping aids to fall asleep last night\"}], \"http://schema.org/schemaVersion\": [{\"@language\": \"en\", \"@value\": \"0.0.1\"}], \"http://schema.org/version\": [{\"@language\": \"en\", \"@value\": \"0.0.1\"}], \"http://www.w3.org/2004/02/skos/core#altLabel\": [{\"@language\": \"en\", \"@value\": \"stressful_day\"}], \"http://www.w3.org/2004/02/skos/core#prefLabel\": [{\"@language\": \"en\", \"@value\": \"Stress\"}], \"https://schema.repronim.org/inputType\": [{\"@type\": \"http://www.w3.org/2001/XMLSchema#string\", \"@value\": \"radio\"}]}], \"https://raw.githubusercontent.com/ReproNim/schema-standardization/master/activities/EmaHBNEvening/items/sources_of_stress.jsonld\": [{\"@id\": \"https://raw.githubusercontent.com/ReproNim/schema-standardization/master/activities/EmaHBNEvening/items/sources_of_stress\", \"@type\": [\"https://raw.githubusercontent.com/ReproNim/schema-standardization/master/schemas/Field.jsonld\"], \"http://schema.org/question\": [{\"@language\": \"en\", \"@value\": \"Choose the source(s) of your child\\'s stress today:\"}], \"https://schema.repronim.org/valueconstraints\": [{\"@type\": [\"http://www.w3.org/2001/XMLSchema#anyURI\"], \"http://schema.org/itemListElement\": [{\"@list\": [{\"@type\": [\"http://schema.org/option\"], \"http://schema.org/image\": [{\"@language\": \"en\", \"@value\": \"https://raw.githubusercontent.com/hfg-gmuend/openmoji/master/color/svg/1F915.svg?sanitize=true\"}], \"http://schema.org/name\": [{\"@language\": \"en\", \"@value\": \"Didn\\'t feel well\"}], \"http://schema.org/value\": [{\"@value\": 0}]}, {\"@type\": [\"http://schema.org/option\"], \"http://schema.org/image\": [{\"@language\": \"en\", \"@value\": \"https://raw.githubusercontent.com/hfg-gmuend/openmoji/master/color/svg/1F469-200D-1F3EB.svg?sanitize=true\"}], \"http://schema.org/name\": [{\"@language\": \"en\", \"@value\": \"Classroom learning\"}], \"http://schema.org/value\": [{\"@value\": 1}]}, {\"@type\": [\"http://schema.org/option\"], \"http://schema.org/image\": [{\"@language\": \"en\", \"@value\": \"https://raw.githubusercontent.com/hfg-gmuend/openmoji/master/color/svg/1F4DD.svg?sanitize=true\"}], \"http://schema.org/name\": [{\"@language\": \"en\", \"@value\": \"A test or quiz at school\"}], \"http://schema.org/value\": [{\"@value\": 2}]}, {\"@type\": [\"http://schema.org/option\"], \"http://schema.org/image\": [{\"@language\": \"en\", \"@value\": \"https://raw.githubusercontent.com/hfg-gmuend/openmoji/master/color/svg/1F47F.svg?sanitize=true\"}], \"http://schema.org/name\": [{\"@language\": \"en\", \"@value\": \"Bullying\"}], \"http://schema.org/value\": [{\"@value\": 3}]}, {\"@type\": [\"http://schema.org/option\"], \"http://schema.org/image\": [{\"@language\": \"en\", \"@value\": \"https://raw.githubusercontent.com/hfg-gmuend/openmoji/master/color/svg/E246.svg?sanitize=true\"}], \"http://schema.org/name\": [{\"@language\": \"en\", \"@value\": \"Online relationships\"}], \"http://schema.org/value\": [{\"@value\": 4}]}, {\"@type\": [\"http://schema.org/option\"], \"http://schema.org/image\": [{\"@language\": \"en\", \"@value\": \"https://raw.githubusercontent.com/hfg-gmuend/openmoji/master/color/svg/2764.svg?sanitize=true\"}], \"http://schema.org/name\": [{\"@language\": \"en\", \"@value\": \"Death of a loved one\"}], \"http://schema.org/value\": [{\"@value\": 5}]}]}], \"http://schema.repronim.org/multipleChoice\": [{\"@type\": \"http://schema.org/Boolean\", \"@value\": true}], \"http://schema.org/maxValue\": [{\"@value\": 2}], \"http://schema.org/minValue\": [{\"@value\": 0}]}], \"http://schema.org/description\": [{\"@language\": \"en\", \"@value\": \"your child\\'s sources of stress\"}], \"http://schema.org/schemaVersion\": [{\"@language\": \"en\", \"@value\": \"0.0.1\"}], \"http://schema.org/version\": [{\"@language\": \"en\", \"@value\": \"0.0.1\"}], \"http://www.w3.org/2004/02/skos/core#altLabel\": [{\"@language\": \"en\", \"@value\": \"source_of_stress\"}], \"http://www.w3.org/2004/02/skos/core#prefLabel\": [{\"@language\": \"en\", \"@value\": \"Sources of Stress\"}], \"https://schema.repronim.org/inputType\": [{\"@type\": \"http://www.w3.org/2001/XMLSchema#string\", \"@value\": \"radio\"}]}], \"https://raw.githubusercontent.com/ReproNim/schema-standardization/master/activities/EmaHBNEvening/items/good_bad_day.jsonld\": [{\"@id\": \"https://raw.githubusercontent.com/ReproNim/schema-standardization/master/activities/EmaHBNEvening/items/good_bad_day\", \"@type\": [\"https://raw.githubusercontent.com/ReproNim/schema-standardization/master/schemas/Field.jsonld\"], \"http://schema.org/question\": [{\"@language\": \"en\", \"@value\": \"Did your child have a good day or bad day today?\"}], \"https://schema.repronim.org/valueconstraints\": [{\"@type\": [\"http://www.w3.org/2001/XMLSchema#anyURI\"], \"http://schema.org/itemListElement\": [{\"@list\": [{\"@type\": [\"http://schema.org/Boolean\"], \"http://schema.org/image\": [{\"@language\": \"en\", \"@value\": \"https://raw.githubusercontent.com/hfg-gmuend/openmoji/master/color/svg/1F44E.svg?sanitize=true\"}], \"http://schema.org/name\": [{\"@language\": \"en\", \"@value\": \"Bad Day\"}], \"http://schema.org/value\": [{\"@value\": 0}]}, {\"@type\": [\"http://schema.org/Boolean\"], \"http://schema.org/image\": [{\"@language\": \"en\", \"@value\": \"https://raw.githubusercontent.com/hfg-gmuend/openmoji/master/color/svg/1F44D.svg?sanitize=true\"}], \"http://schema.org/name\": [{\"@language\": \"en\", \"@value\": \"Good Day\"}], \"http://schema.org/value\": [{\"@value\": 1}]}]}], \"http://schema.repronim.org/multipleChoice\": [{\"@type\": \"http://schema.org/Boolean\", \"@value\": false}], \"http://schema.org/maxValue\": [{\"@value\": 1}], \"http://schema.org/minValue\": [{\"@value\": 0}]}], \"http://schema.org/description\": [{\"@language\": \"en\", \"@value\": \"did you child have a good or bad day\"}], \"http://schema.org/schemaVersion\": [{\"@language\": \"en\", \"@value\": \"0.0.1\"}], \"http://schema.org/version\": [{\"@language\": \"en\", \"@value\": \"0.0.1\"}], \"http://www.w3.org/2004/02/skos/core#altLabel\": [{\"@language\": \"en\", \"@value\": \"good_bad_day\"}], \"http://www.w3.org/2004/02/skos/core#prefLabel\": [{\"@language\": \"en\", \"@value\": \"Good or Bad day\"}], \"https://schema.repronim.org/inputType\": [{\"@type\": \"http://www.w3.org/2001/XMLSchema#string\", \"@value\": \"radio\"}]}], \"https://raw.githubusercontent.com/ReproNim/schema-standardization/master/activities/EmaHBNEvening/items/enjoyed_day.jsonld\": [{\"@id\": \"https://raw.githubusercontent.com/ReproNim/schema-standardization/master/activities/EmaHBNEvening/items/enjoyed_day\", \"@type\": [\"https://raw.githubusercontent.com/ReproNim/schema-standardization/master/schemas/Field.jsonld\"], \"http://schema.org/question\": [{\"@language\": \"en\", \"@value\": \"Did your child seem like they enjoyed the day?\"}], \"https://schema.repronim.org/valueconstraints\": [{\"@type\": [\"http://www.w3.org/2001/XMLSchema#integer\"], \"http://schema.org/itemListElement\": [{\"@list\": [{\"http://schema.org/image\": [{\"@language\": \"en\", \"@value\": \"https://raw.githubusercontent.com/hfg-gmuend/openmoji/master/color/svg/1F621.svg?sanitize=true\"}], \"http://schema.org/name\": [{\"@language\": \"en\", \"@value\": \"0\"}], \"http://schema.org/value\": [{\"@value\": 0}]}, {\"http://schema.org/name\": [{\"@language\": \"en\", \"@value\": \"1\"}], \"http://schema.org/value\": [{\"@value\": 1}]}, {\"http://schema.org/name\": [{\"@language\": \"en\", \"@value\": \"2\"}], \"http://schema.org/value\": [{\"@value\": 2}]}, {\"http://schema.org/name\": [{\"@language\": \"en\", \"@value\": \"3\"}], \"http://schema.org/value\": [{\"@value\": 3}]}, {\"http://schema.org/name\": [{\"@language\": \"en\", \"@value\": \"4\"}], \"http://schema.org/value\": [{\"@value\": 4}]}, {\"http://schema.org/image\": [{\"@language\": \"en\", \"@value\": \"https://raw.githubusercontent.com/hfg-gmuend/openmoji/master/color/svg/1F601.svg?sanitize=true\"}], \"http://schema.org/name\": [{\"@language\": \"en\", \"@value\": \"5\"}], \"http://schema.org/value\": [{\"@value\": 5}]}]}], \"http://schema.repronim.org/requiredValue\": [{\"@type\": \"http://schema.org/Boolean\", \"@value\": false}], \"http://schema.org/maxValue\": [{\"@language\": \"en\", \"@value\": \"Really enjoying things\"}], \"http://schema.org/minValue\": [{\"@language\": \"en\", \"@value\": \"No enjoyment or pleasure\"}]}], \"http://schema.org/description\": [{\"@language\": \"en\", \"@value\": \"whether or not your child took sleeping aids to fall asleep last night\"}], \"http://schema.org/schemaVersion\": [{\"@language\": \"en\", \"@value\": \"0.0.1\"}], \"http://schema.org/version\": [{\"@language\": \"en\", \"@value\": \"0.0.1\"}], \"http://www.w3.org/2004/02/skos/core#altLabel\": [{\"@language\": \"en\", \"@value\": \"enjoyed_day\"}], \"http://www.w3.org/2004/02/skos/core#prefLabel\": [{\"@language\": \"en\", \"@value\": \"Enjoyed the day\"}], \"https://schema.repronim.org/inputType\": [{\"@type\": \"http://www.w3.org/2001/XMLSchema#string\", \"@value\": \"slider\"}]}], \"https://raw.githubusercontent.com/ReproNim/schema-standardization/master/activities/EmaHBNEvening/items/energy.jsonld\": [{\"@id\": \"https://raw.githubusercontent.com/ReproNim/schema-standardization/master/activities/EmaHBNEvening/items/energy\", \"@type\": [\"https://raw.githubusercontent.com/ReproNim/schema-standardization/master/schemas/Field.jsonld\"], \"http://schema.org/question\": [{\"@language\": \"en\", \"@value\": \"How tired vs energetic did you child seem today?\"}], \"https://schema.repronim.org/valueconstraints\": [{\"@type\": [\"http://www.w3.org/2001/XMLSchema#integer\"], \"http://schema.org/itemListElement\": [{\"@list\": [{\"http://schema.org/image\": [{\"@language\": \"en\", \"@value\": \"https://raw.githubusercontent.com/hfg-gmuend/openmoji/master/color/svg/1F634.svg?sanitize=true\"}], \"http://schema.org/name\": [{\"@language\": \"en\", \"@value\": \"1\"}], \"http://schema.org/value\": [{\"@value\": 1}]}, {\"http://schema.org/name\": [{\"@language\": \"en\", \"@value\": \"2\"}], \"http://schema.org/value\": [{\"@value\": 2}]}, {\"http://schema.org/name\": [{\"@language\": \"en\", \"@value\": \"3\"}], \"http://schema.org/value\": [{\"@value\": 3}]}, {\"http://schema.org/name\": [{\"@language\": \"en\", \"@value\": \"4\"}], \"http://schema.org/value\": [{\"@value\": 4}]}, {\"http://schema.org/image\": [{\"@language\": \"en\", \"@value\": \"https://raw.githubusercontent.com/hfg-gmuend/openmoji/master/color/svg/1F606.svg?sanitize=true\"}], \"http://schema.org/name\": [{\"@language\": \"en\", \"@value\": \"5\"}], \"http://schema.org/value\": [{\"@value\": 5}]}]}], \"http://schema.repronim.org/requiredValue\": [{\"@type\": \"http://schema.org/Boolean\", \"@value\": false}], \"http://schema.org/maxValue\": [{\"@language\": \"en\", \"@value\": \"high energy\"}], \"http://schema.org/minValue\": [{\"@language\": \"en\", \"@value\": \"very tired\"}]}], \"http://schema.org/description\": [{\"@language\": \"en\", \"@value\": \"how energetic your child was today\"}], \"http://schema.org/schemaVersion\": [{\"@language\": \"en\", \"@value\": \"0.0.1\"}], \"http://schema.org/version\": [{\"@language\": \"en\", \"@value\": \"0.0.1\"}], \"http://www.w3.org/2004/02/skos/core#altLabel\": [{\"@language\": \"en\", \"@value\": \"energy\"}], \"http://www.w3.org/2004/02/skos/core#prefLabel\": [{\"@language\": \"en\", \"@value\": \"Energy level\"}], \"https://schema.repronim.org/inputType\": [{\"@type\": \"http://www.w3.org/2001/XMLSchema#string\", \"@value\": \"slider\"}]}], \"https://raw.githubusercontent.com/ReproNim/schema-standardization/master/activities/EmaHBNEvening/items/health.jsonld\": [{\"@id\": \"https://raw.githubusercontent.com/ReproNim/schema-standardization/master/activities/EmaHBNEvening/items/health\", \"@type\": [\"https://raw.githubusercontent.com/ReproNim/schema-standardization/master/schemas/Field.jsonld\"], \"http://schema.org/question\": [{\"@language\": \"en\", \"@value\": \"Was your child in good health today?\"}], \"https://schema.repronim.org/valueconstraints\": [{\"@type\": [\"http://www.w3.org/2001/XMLSchema#anyURI\"], \"http://schema.org/itemListElement\": [{\"@list\": [{\"@type\": [\"http://schema.org/Boolean\"], \"http://schema.org/image\": [{\"@language\": \"en\", \"@value\": \"https://raw.githubusercontent.com/hfg-gmuend/openmoji/master/color/svg/1F915.svg?sanitize=true\"}], \"http://schema.org/name\": [{\"@language\": \"en\", \"@value\": \"No\"}], \"http://schema.org/value\": [{\"@value\": 0}]}, {\"@type\": [\"http://schema.org/Boolean\"], \"http://schema.org/image\": [{\"@language\": \"en\", \"@value\": \"https://raw.githubusercontent.com/hfg-gmuend/openmoji/master/color/svg/263A.svg?sanitize=true\"}], \"http://schema.org/name\": [{\"@language\": \"en\", \"@value\": \"Yes\"}], \"http://schema.org/value\": [{\"@value\": 1}]}]}], \"http://schema.repronim.org/multipleChoice\": [{\"@type\": \"http://schema.org/Boolean\", \"@value\": false}], \"http://schema.org/maxValue\": [{\"@value\": 1}], \"http://schema.org/minValue\": [{\"@value\": 0}]}], \"http://schema.org/description\": [{\"@language\": \"en\", \"@value\": \"was your child in good health today\"}], \"http://schema.org/schemaVersion\": [{\"@language\": \"en\", \"@value\": \"0.0.1\"}], \"http://schema.org/version\": [{\"@language\": \"en\", \"@value\": \"0.0.1\"}], \"http://www.w3.org/2004/02/skos/core#altLabel\": [{\"@language\": \"en\", \"@value\": \"health\"}], \"http://www.w3.org/2004/02/skos/core#prefLabel\": [{\"@language\": \"en\", \"@value\": \"General Health\"}], \"https://schema.repronim.org/inputType\": [{\"@type\": \"http://www.w3.org/2001/XMLSchema#string\", \"@value\": \"radio\"}]}], \"https://raw.githubusercontent.com/ReproNim/schema-standardization/master/activities/EmaHBNEvening/items/negative_event.jsonld\": [{\"@id\": \"https://raw.githubusercontent.com/ReproNim/schema-standardization/master/activities/EmaHBNEvening/items/sleeping_aids\", \"@type\": [\"https://raw.githubusercontent.com/ReproNim/schema-standardization/master/schemas/Field.jsonld\"], \"http://schema.org/question\": [{\"@language\": \"en\", \"@value\": \"Please think of ONE event that may have affected your child the most today (positively or negatively), no matter how slightly. In what context did the event occur?\"}], \"https://schema.repronim.org/valueconstraints\": [{\"@type\": [\"http://www.w3.org/2001/XMLSchema#anyURI\"], \"http://schema.org/itemListElement\": [{\"@list\": [{\"@type\": [\"http://schema.org/Boolean\"], \"http://schema.org/name\": [{\"@language\": \"en\", \"@value\": \"No\"}], \"http://schema.org/value\": [{\"@value\": 0}]}, {\"@type\": [\"http://schema.org/Boolean\"], \"http://schema.org/name\": [{\"@language\": \"en\", \"@value\": \"Yes\"}], \"http://schema.org/value\": [{\"@value\": 1}]}]}], \"http://schema.repronim.org/multipleChoice\": [{\"@type\": \"http://schema.org/Boolean\", \"@value\": true}], \"http://schema.org/maxValue\": [{\"@value\": 1}], \"http://schema.org/minValue\": [{\"@value\": 0}]}], \"http://schema.org/description\": [{\"@language\": \"en\", \"@value\": \"whether or not your child took sleeping aids to fall asleep last night\"}], \"http://schema.org/schemaVersion\": [{\"@language\": \"en\", \"@value\": \"0.0.1\"}], \"http://schema.org/version\": [{\"@language\": \"en\", \"@value\": \"0.0.1\"}], \"http://www.w3.org/2004/02/skos/core#altLabel\": [{\"@language\": \"en\", \"@value\": \"sleeping_aids\"}], \"http://www.w3.org/2004/02/skos/core#prefLabel\": [{\"@language\": \"en\", \"@value\": \"Sleeping Aids\"}], \"https://schema.repronim.org/inputType\": [{\"@type\": \"http://www.w3.org/2001/XMLSchema#string\", \"@value\": \"radio\"}]}]}, \"applet\": [{\"@id\": \"https://raw.githubusercontent.com/ReproNim/schema-standardization/master/activity-sets/ema-hbn/ema-hbn_schema\", \"@type\": [\"https://raw.githubusercontent.com/ReproNim/schema-standardization/master/schemas/ActivitySet.jsonld\"], \"http://schema.org/description\": [{\"@language\": \"en\", \"@value\": \"Daily questions about your child\\'s physical and mental health\"}], \"http://schema.org/schemaVersion\": [{\"@language\": \"en\", \"@value\": \"0.0.1\"}], \"http://schema.org/version\": [{\"@language\": \"en\", \"@value\": \"0.0.1\"}], \"http://www.w3.org/2004/02/skos/core#altLabel\": [{\"@language\": \"en\", \"@value\": \"ema-hbn\"}], \"http://www.w3.org/2004/02/skos/core#prefLabel\": [{\"@language\": \"en\", \"@value\": \"Healthy Brain Network: EMA\"}], \"https://schema.repronim.org/activity_display_name\": [{\"https://raw.githubusercontent.com/ReproNim/schema-standardization/master/activities/EmaHBNEvening/ema_evening_schema.jsonld\": [{\"@id\": \"https://raw.githubusercontent.com/ReproNim/schema-standardization/master/activity-sets/ema-hbn/Evening\"}], \"https://raw.githubusercontent.com/ReproNim/schema-standardization/master/activities/EmaHBNMorning/ema_morning_schema.jsonld\": [{\"@id\": \"https://raw.githubusercontent.com/ReproNim/schema-standardization/master/activity-sets/ema-hbn/Morning\"}]}], \"https://schema.repronim.org/order\": [{\"@list\": [{\"@id\": \"https://raw.githubusercontent.com/ReproNim/schema-standardization/master/activities/EmaHBNMorning/ema_morning_schema.jsonld\"}, {\"@id\": \"https://raw.githubusercontent.com/ReproNim/schema-standardization/master/activities/EmaHBNEvening/ema_evening_schema.jsonld\"}]}], \"https://schema.repronim.org/shuffle\": [{\"@type\": \"http://schema.org/Boolean\", \"@value\": false}], \"https://schema.repronim.org/visibility\": [{\"@value\": true, \"@index\": \"ema_evening\"}, {\"@value\": true, \"@index\": \"ema_morning\"}]}]}'"
      ]
     },
     "execution_count": 116,
     "metadata": {},
     "output_type": "execute_result"
    }
   ],
   "source": [
    "json.dumps(fully_expanded_hbn)"
   ]
  },
  {
   "cell_type": "code",
   "execution_count": null,
   "metadata": {},
   "outputs": [],
   "source": []
  }
 ],
 "metadata": {
  "kernelspec": {
   "display_name": "Python 3",
   "language": "python",
   "name": "python3"
  },
  "language_info": {
   "codemirror_mode": {
    "name": "ipython",
    "version": 3
   },
   "file_extension": ".py",
   "mimetype": "text/x-python",
   "name": "python",
   "nbconvert_exporter": "python",
   "pygments_lexer": "ipython3",
   "version": "3.6.8"
  }
 },
 "nbformat": 4,
 "nbformat_minor": 2
}
